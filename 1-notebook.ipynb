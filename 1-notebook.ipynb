{
 "cells": [
  {
   "cell_type": "markdown",
   "id": "866aa246-0f9f-4c13-b08c-5ab256a40771",
   "metadata": {
    "tags": []
   },
   "source": [
    "# Data Science Tools and Ecosystem"
   ]
  },
  {
   "cell_type": "markdown",
   "id": "f9a3b230-90a5-4f30-ad90-f10bc4341cd7",
   "metadata": {},
   "source": [
    "# Introduction\n",
    "In this Notebook data Science Tools and Ecosystem are summarized"
   ]
  },
  {
   "cell_type": "markdown",
   "id": "165b5844-bd9b-4629-aeeb-34a125afe4fe",
   "metadata": {
    "tags": []
   },
   "source": [
    "some of the popular langages used are:\n",
    "\n",
    "    1. Python\n",
    "    2. R\n",
    "    3. SQL\n",
    "    4. Scala\n",
    "    5. Java\n",
    "    6. C++\n",
    "    7. Julia\n",
    "    8. Javascript\n",
    "    9. PHP\n",
    "    10.Go\n",
    "    11.Ruby\n",
    "    12.Visual Basic"
   ]
  },
  {
   "cell_type": "markdown",
   "id": "f7b3f73e-a8ce-4e44-bce3-26cdaccfc73d",
   "metadata": {
    "tags": []
   },
   "source": [
    "some of the commonly used libraries in data science are:\n",
    "\n",
    "    Pandas\n",
    "    Numpy\n",
    "    Matplotlib\n",
    "    Seaborn\n",
    "    Scikit-learn\n",
    "    Keras\n",
    "    TensorFlow\n",
    "    PyTorch\n",
    "    Apache Spark\n",
    "    Vegas\n",
    "    Big DL\n",
    "    Ggplot2"
   ]
  },
  {
   "cell_type": "markdown",
   "id": "c6bbdd13-43bd-41e3-83a7-e00301672c0f",
   "metadata": {},
   "source": [
    "Data Science Tools\n",
    "\n",
    "    Anaconda\n",
    "    Jupyter Notebook\n",
    "    R studio\n",
    "    Spider\n",
    "    Zeppelin"
   ]
  },
  {
   "cell_type": "markdown",
   "id": "1eec5170-4fcb-4b9e-b3f5-6a9de2c484fe",
   "metadata": {
    "tags": []
   },
   "source": [
    "<H1> Arithematic Expression Example</H1>\n",
    "2+3=5\n",
    "    "
   ]
  },
  {
   "cell_type": "code",
   "execution_count": 6,
   "id": "3955026a-7be2-4301-a5b2-5c3d278517c1",
   "metadata": {
    "tags": []
   },
   "outputs": [
    {
     "data": {
      "text/plain": [
       "20"
      ]
     },
     "execution_count": 6,
     "metadata": {},
     "output_type": "execute_result"
    }
   ],
   "source": [
    "#expression for multiply and add integer\n",
    "(3*5)+5"
   ]
  },
  {
   "cell_type": "code",
   "execution_count": 9,
   "id": "3f48438d-aec9-4ff6-9034-5b290dc462df",
   "metadata": {
    "tags": []
   },
   "outputs": [
    {
     "data": {
      "text/plain": [
       "9"
      ]
     },
     "execution_count": 9,
     "metadata": {},
     "output_type": "execute_result"
    }
   ],
   "source": [
    "# converting 200 minutes to hours\n",
    "540//60"
   ]
  },
  {
   "cell_type": "markdown",
   "id": "af75dc22-fc6b-42b3-8fb8-138d356bbbc3",
   "metadata": {
    "tags": []
   },
   "source": [
    "<H1>Objectives</H1>\n",
    "<ul>\n",
    "<li>Add comments to code cell</li>\n",
    "<li>Create Markdown cell</li>\n",
    "<li>Add Orderd and Unordered list</li>\n",
    "<li>Formate content of markdown cell with heading style</li>"
   ]
  },
  {
   "cell_type": "markdown",
   "id": "02086af8-b37f-41cb-9a36-aa0f890ca0a7",
   "metadata": {
    "tags": []
   },
   "source": [
    "<H1>Authors(s)</H1>\n",
    "Ali Gauhar"
   ]
  },
  {
   "cell_type": "code",
   "execution_count": null,
   "id": "42168d5b-7dd6-4720-b644-3a6906f2f960",
   "metadata": {},
   "outputs": [],
   "source": []
  }
 ],
 "metadata": {
  "kernelspec": {
   "display_name": "Python 3 (ipykernel)",
   "language": "python",
   "name": "python3"
  },
  "language_info": {
   "codemirror_mode": {
    "name": "ipython",
    "version": 3
   },
   "file_extension": ".py",
   "mimetype": "text/x-python",
   "name": "python",
   "nbconvert_exporter": "python",
   "pygments_lexer": "ipython3",
   "version": "3.10.6"
  }
 },
 "nbformat": 4,
 "nbformat_minor": 5
}
